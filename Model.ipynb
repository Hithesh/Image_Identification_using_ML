{
  "cells": [
    {
      "cell_type": "code",
      "execution_count": 50,
      "metadata": {
        "id": "E7qOzrMJn0X9"
      },
      "outputs": [],
      "source": [
        "import tensorflow as tf"
      ]
    },
    {
      "cell_type": "code",
      "execution_count": 51,
      "metadata": {
        "id": "Y3Q3AT0KrS7N"
      },
      "outputs": [],
      "source": [
        "fashion_mnist = tf.keras.datasets.fashion_mnist\n",
        "(train_images, train_labels), (valid_images, valid_labels) = fashion_mnist.load_data()"
      ]
    },
    {
      "cell_type": "markdown",
      "metadata": {
        "id": "313a48d2"
      },
      "source": [
        "Here is the table of categories for the Fashion MNIST dataset:\n",
        "\n",
        "| Label | Description |\n",
        "|---|---|\n",
        "| 0 | T-shirt/top |\n",
        "| 1 | Trouser |\n",
        "| 2 | Pullover |\n",
        "| 3 | Dress |\n",
        "| 4 | Coat |\n",
        "| 5 | Sandal |\n",
        "| 6 | Shirt |\n",
        "| 7 | Sneaker |\n",
        "| 8 | Bag |\n",
        "| 9 | Ankle boot |"
      ]
    },
    {
      "cell_type": "code",
      "execution_count": 52,
      "metadata": {
        "colab": {
          "base_uri": "https://localhost:8080/",
          "height": 430
        },
        "id": "EwPyl4ZXrZuZ",
        "outputId": "04d870af-c5df-48af-8f78-7c2076d685f0"
      },
      "outputs": [
        {
          "data": {
            "image/png": "[encoded data removed]",
            "text/plain": [
              "<Figure size 640x480 with 2 Axes>"
            ]
          },
          "metadata": {},
          "output_type": "display_data"
        }
      ],
      "source": [
        "import matplotlib.pyplot as plt\n",
        "import random\n",
        "\n",
        "data_idx = random.randint(0, 59999)\n",
        "\n",
        "plt.figure()\n",
        "plt.imshow(train_images[data_idx], cmap='gray')\n",
        "plt.colorbar()\n",
        "plt.grid(False)\n",
        "plt.show()"
      ]
    },
    {
      "cell_type": "code",
      "execution_count": 53,
      "metadata": {
        "colab": {
          "base_uri": "https://localhost:8080/"
        },
        "id": "Jp30Ldihratg",
        "outputId": "8132b5cf-d8d4-41c7-dda7-9646db1f368b"
      },
      "outputs": [
        {
          "data": {
            "text/plain": [
              "np.uint8(2)"
            ]
          },
          "execution_count": 53,
          "metadata": {},
          "output_type": "execute_result"
        }
      ],
      "source": [
        "train_labels[data_idx]"
      ]
    },
    {
      "cell_type": "code",
      "execution_count": 54,
      "metadata": {
        "colab": {
          "base_uri": "https://localhost:8080/",
          "height": 430
        },
        "id": "gpRo2UmIrd9v",
        "outputId": "820260ad-7ebf-4b1a-da00-192b05f3abab"
      },
      "outputs": [
        {
          "data": {
            "image/png": "[encoded data removed]",
            "text/plain": [
              "<Figure size 640x480 with 2 Axes>"
            ]
          },
          "metadata": {},
          "output_type": "display_data"
        }
      ],
      "source": [
        "import matplotlib.pyplot as plt\n",
        "import random\n",
        "\n",
        "data_idx = random.randint(0, 9999)\n",
        "\n",
        "plt.figure()\n",
        "plt.imshow(valid_images[data_idx], cmap='gray')\n",
        "plt.colorbar()\n",
        "plt.grid(False)\n",
        "plt.show()"
      ]
    },
    {
      "cell_type": "code",
      "execution_count": 55,
      "metadata": {
        "colab": {
          "base_uri": "https://localhost:8080/"
        },
        "id": "ET5QraFNrh8c",
        "outputId": "af48da54-62d1-4dfa-a0f8-a6e90555d652"
      },
      "outputs": [
        {
          "data": {
            "text/plain": [
              "np.uint8(6)"
            ]
          },
          "execution_count": 55,
          "metadata": {},
          "output_type": "execute_result"
        }
      ],
      "source": [
        "valid_labels[data_idx]"
      ]
    },
    {
      "cell_type": "code",
      "execution_count": 56,
      "metadata": {
        "colab": {
          "base_uri": "https://localhost:8080/",
          "height": 68
        },
        "collapsed": true,
        "id": "vOQGLx4prmGX",
        "outputId": "ad5bef4d-ee1a-44c8-f3a1-c18e1dc93697"
      },
      "outputs": [
        {
          "data": {
            "text/html": [
              "<style>\n",
              "      .ndarray_repr .ndarray_raw_data {\n",
              "        display: none;\n",
              "      }\n",
              "      .ndarray_repr.show_array .ndarray_raw_data {\n",
              "        display: block;\n",
              "      }\n",
              "      .ndarray_repr.show_array .ndarray_image_preview {\n",
              "        display: none;\n",
              "      }\n",
              "      </style>\n",
              "      <div id=\"id-173bd9da-a93c-4a79-a13e-f77e2dfbc179\" class=\"ndarray_repr\"><pre>ndarray (28, 28) <button style=\"padding: 0 2px;\">show data</button></pre><img src=\"data:image/png;base64,iVBORw0KGgoAAAANSUhEUgAAABwAAAAcCAAAAABXZoBIAAAB90lEQVR4nFWSuXLTUBSG/3M3SZYsJ9jBA0kI8QwUzFBQMKnoaeioKXkLep6Bt6CgpyIsM1AQlobVE4gmqy3LsnQ3ioAlTnXmfvf8M+e7F/hbBFwGsH3enpf413h07z7YDasnX+EB8mjf2ly//vvOo2ePbx7//H7QpAHA1duYlnK2mdnQrQbF87wF43tjw2m2xnNAGZ+qpwAABgC4dqYVKJppR9yRPKWNFkySwBFxmUgiztH3gxZ06bAia7Tn4FZHm1XYgtF0lBsmwlIrz6fbRz5pwfDHrftFHPBeR4YqfDjncSOB1OlWPQeRYWSo2NVRK7YjTPTeE7h2gE2vcGrFRhDTfu1BAl4yPY1IUgNdZ7ph4HUQkrNlX8S8s4TCDPKcW8ecgRP0il9AA5P5YPIi9ZbVhmCTN+vDPFjCeH7p28uhhgikZ+Tr0WrRW0Juh0UVcrjCW4fgaE1M4kZC1T9YWE/aeOdJ7pXdSi6hNYMMamFVqgEXyl/potmTmZUTw/ii25HCOUEfB9o0k3Do1D6qjrnltTZfFDWTXB3OuAGbzKx0TPfzGo0h09sfR87UZoSFUPXK4WelGkOOQxjIVeYZyAaHJ6Jq3JqkezQoXTaeF2fFxQ/hFk+W77mf7rEs29nPQ+nj4F0Zva6z/z41sLJzI3HZp7fl8uQPmsffbCwePiIAAAAASUVORK5CYII=\" class=\"ndarray_image_preview\" /><pre class=\"ndarray_raw_data\">array([[  0,   0,   0,   0,   0,   0,   0,   0,   1,   0,   0,  26,   0,\n",
              "          0,   0,  33,   0,   0,   0,   1,   0,   0,   0,   0,   0,   0,\n",
              "          0,   0],\n",
              "       [  0,   0,   0,   0,   0,   0,   0,   0,   0,   0,  13,  98, 192,\n",
              "        135, 143, 136,  34,   0,   0,   0,   0,   0,   1,   0,   0,   0,\n",
              "          0,   0],\n",
              "       [  0,   0,   0,   0,   0,   0,   0,   0,  29,  56,  94,  69, 130,\n",
              "        255, 180,  60, 105,  86,  56,  24,   0,   0,   0,   0,   0,   0,\n",
              "          0,   0],\n",
              "       [  0,   0,   0,   0,   0,   0,  32,  85,  85,  71,  62,  67,  55,\n",
              "         84,  61,  58,  66,  64,  81,  88,  77,  13,   0,   0,   0,   0,\n",
              "          0,   0],\n",
              "       [  0,   0,   0,   0,   0,  11,  88,  59,  55,  58,  59,  47,  68,\n",
              "         71,  58,  58,  58,  64,  60,  59,  73,  79,   0,   0,   0,   0,\n",
              "          0,   0],\n",
              "       [  0,   0,   0,   0,   0,  48,  72,  54,  61,  58,  60,  56,  56,\n",
              "         66,  56,  59,  61,  62,  61,  64,  56,  80,  28,   0,   0,   0,\n",
              "          0,   0],\n",
              "       [  0,   0,   0,   0,   0,  60,  84,  61,  59,  59,  61,  59,  61,\n",
              "         78,  61,  60,  62,  65,  64,  64,  75,  79,  48,   0,   0,   0,\n",
              "          0,   0],\n",
              "       [  0,   0,   0,   0,   0,  58,  98,  84,  52,  60,  58,  55,  56,\n",
              "         77,  64,  60,  65,  62,  59,  73, 104,  72,  56,   0,   0,   0,\n",
              "          0,   0],\n",
              "       [  0,   0,   0,   0,   0,  67,  84, 118,  39,  56,  60,  59,  64,\n",
              "         68,  59,  66,  64,  65,  45, 106,  84,  71,  68,   0,   0,   0,\n",
              "          0,   0],\n",
              "       [  0,   0,   0,   0,   0,  75,  53, 167, 123,  45,  71,  66,  67,\n",
              "         83,  69,  71,  72,  71,  53, 208,  74,  74,  79,   0,   0,   0,\n",
              "          0,   0],\n",
              "       [  0,   0,   0,   0,   1,  81,  36, 198, 161,  35,  71,  67,  68,\n",
              "         79,  71,  72,  68,  69,  42, 151,  69,  78,  87,   0,   0,   0,\n",
              "          0,   0],\n",
              "       [  0,   0,   0,   0,  11,  85,  32, 207, 116,  34,  72,  67,  71,\n",
              "         74,  69,  72,  68,  66,  56, 181,  72,  79,  99,   0,   0,   0,\n",
              "          0,   0],\n",
              "       [  0,   0,   0,   0,  20,  85,  36, 193, 135,  28,  71,  67,  72,\n",
              "         78,  69,  71,  73,  68,  51, 167,  81,  80, 104,   1,   0,   0,\n",
              "          0,   0],\n",
              "       [  0,   0,   0,   0,  29,  83,  46, 179, 163,  24,  71,  66,  67,\n",
              "         85,  77,  72,  71,  65,  42, 186,  85,  91, 107,  11,   0,   0,\n",
              "          0,   0],\n",
              "       [  0,   0,   0,   0,  33,  79,  66, 166, 150,  27,  68,  64,  69,\n",
              "         83,  73,  72,  69,  69,  43, 131,  88, 109, 107,  21,   0,   0,\n",
              "          0,   0],\n",
              "       [  0,   0,   0,   0,  45,  69,  86, 151,  92,  41,  67,  61,  71,\n",
              "         77,  69,  73,  69,  66,  55,  78, 115, 132,  94,  28,   0,   0,\n",
              "          0,   0],\n",
              "       [  0,   0,   0,   0,  56,  59, 111, 118,  36,  64,  62,  61,  75,\n",
              "         84,  74,  72,  71,  67,  54,  72, 149, 149,  83,  43,   0,   0,\n",
              "          0,   0],\n",
              "       [  0,   0,   0,   0,  59,  56, 134, 107,  29,  72,  65,  61,  73,\n",
              "         73,  73,  69,  69,  67,  61,  52, 170, 153,  68,  54,   0,   0,\n",
              "          0,   0],\n",
              "       [  0,   0,   0,   0,  59,  49, 153,  83,  21,  69,  64,  62,  68,\n",
              "         69,  72,  67,  68,  68,  66,   8, 161, 166,  61,  59,   0,   0,\n",
              "          0,   0],\n",
              "       [  0,   0,   0,   0,  56,  45, 173,  60,  21,  75,  56,  59,  74,\n",
              "         83,  67,  67,  68,  66,  74,  13, 135, 180,  53,  59,   0,   0,\n",
              "          0,   0],\n",
              "       [  0,   0,   0,   0,  58,  41, 189,  42,  17,  77,  59,  51,  87,\n",
              "         93,  72,  71,  66,  64,  78,  14,  93, 200,  48,  55,   0,   0,\n",
              "          0,   0],\n",
              "       [  0,   0,   0,   0,  55,  41, 187,  42,  27,  71,  58,  60,  80,\n",
              "         74,  75,  68,  69,  58,  73,  10,  58, 206,  49,  55,   0,   0,\n",
              "          0,   0],\n",
              "       [  0,   0,   0,   0,  58,  47, 166,  30,  30,  67,  58,  62,  65,\n",
              "         62,  72,  73,  67,  60,  68,  29,  45, 200,  49,  56,   0,   0,\n",
              "          0,   0],\n",
              "       [  0,   0,   0,   0,  54,  62, 139,   1,  39,  65,  54,  56,  61,\n",
              "         96,  72,  65,  71,  66,  62,  45,  24, 160,  55,  62,   0,   0,\n",
              "          0,   0],\n",
              "       [  0,   0,   0,   0,  58,  60, 142,   1,  43,  61,  54,  61,  78,\n",
              "         98,  71,  67,  71,  67,  59,  52,   3, 142,  59,  55,   0,   0,\n",
              "          0,   0],\n",
              "       [  0,   0,   0,   0,  67,  56, 154,  14,  23,  81,  45,  59,  55,\n",
              "         69,  61,  56,  55,  56,  81,   9,  11, 173,  62,  67,   0,   0,\n",
              "          0,   0],\n",
              "       [  0,   0,   0,   0,  40,  54, 110,  16,   0,  58, 100,  73,  60,\n",
              "         77,  74,  73,  84,  91,  42,   0,   9, 119,  56,  39,   0,   0,\n",
              "          0,   0],\n",
              "       [  0,   0,   0,   0,   0,   0,   0,   0,   0,   0,  16,  71, 113,\n",
              "        125, 123, 100,  59,   9,   0,   0,   0,   0,   0,   0,   0,   0,\n",
              "          0,   0]], dtype=uint8)</pre></div><script>\n",
              "      (() => {\n",
              "      const titles = ['show data', 'hide data'];\n",
              "      let index = 0\n",
              "      document.querySelector('#id-173bd9da-a93c-4a79-a13e-f77e2dfbc179 button').onclick = (e) => {\n",
              "        document.querySelector('#id-173bd9da-a93c-4a79-a13e-f77e2dfbc179').classList.toggle('show_array');\n",
              "        index = (++index) % 2;\n",
              "        document.querySelector('#id-173bd9da-a93c-4a79-a13e-f77e2dfbc179 button').textContent = titles[index];\n",
              "        e.preventDefault();\n",
              "        e.stopPropagation();\n",
              "      }\n",
              "      })();\n",
              "    </script>"
            ],
            "text/plain": [
              "array([[  0,   0,   0,   0,   0,   0,   0,   0,   1,   0,   0,  26,   0,\n",
              "          0,   0,  33,   0,   0,   0,   1,   0,   0,   0,   0,   0,   0,\n",
              "          0,   0],\n",
              "       [  0,   0,   0,   0,   0,   0,   0,   0,   0,   0,  13,  98, 192,\n",
              "        135, 143, 136,  34,   0,   0,   0,   0,   0,   1,   0,   0,   0,\n",
              "          0,   0],\n",
              "       [  0,   0,   0,   0,   0,   0,   0,   0,  29,  56,  94,  69, 130,\n",
              "        255, 180,  60, 105,  86,  56,  24,   0,   0,   0,   0,   0,   0,\n",
              "          0,   0],\n",
              "       [  0,   0,   0,   0,   0,   0,  32,  85,  85,  71,  62,  67,  55,\n",
              "         84,  61,  58,  66,  64,  81,  88,  77,  13,   0,   0,   0,   0,\n",
              "          0,   0],\n",
              "       [  0,   0,   0,   0,   0,  11,  88,  59,  55,  58,  59,  47,  68,\n",
              "         71,  58,  58,  58,  64,  60,  59,  73,  79,   0,   0,   0,   0,\n",
              "          0,   0],\n",
              "       [  0,   0,   0,   0,   0,  48,  72,  54,  61,  58,  60,  56,  56,\n",
              "         66,  56,  59,  61,  62,  61,  64,  56,  80,  28,   0,   0,   0,\n",
              "          0,   0],\n",
              "       [  0,   0,   0,   0,   0,  60,  84,  61,  59,  59,  61,  59,  61,\n",
              "         78,  61,  60,  62,  65,  64,  64,  75,  79,  48,   0,   0,   0,\n",
              "          0,   0],\n",
              "       [  0,   0,   0,   0,   0,  58,  98,  84,  52,  60,  58,  55,  56,\n",
              "         77,  64,  60,  65,  62,  59,  73, 104,  72,  56,   0,   0,   0,\n",
              "          0,   0],\n",
              "       [  0,   0,   0,   0,   0,  67,  84, 118,  39,  56,  60,  59,  64,\n",
              "         68,  59,  66,  64,  65,  45, 106,  84,  71,  68,   0,   0,   0,\n",
              "          0,   0],\n",
              "       [  0,   0,   0,   0,   0,  75,  53, 167, 123,  45,  71,  66,  67,\n",
              "         83,  69,  71,  72,  71,  53, 208,  74,  74,  79,   0,   0,   0,\n",
              "          0,   0],\n",
              "       [  0,   0,   0,   0,   1,  81,  36, 198, 161,  35,  71,  67,  68,\n",
              "         79,  71,  72,  68,  69,  42, 151,  69,  78,  87,   0,   0,   0,\n",
              "          0,   0],\n",
              "       [  0,   0,   0,   0,  11,  85,  32, 207, 116,  34,  72,  67,  71,\n",
              "         74,  69,  72,  68,  66,  56, 181,  72,  79,  99,   0,   0,   0,\n",
              "          0,   0],\n",
              "       [  0,   0,   0,   0,  20,  85,  36, 193, 135,  28,  71,  67,  72,\n",
              "         78,  69,  71,  73,  68,  51, 167,  81,  80, 104,   1,   0,   0,\n",
              "          0,   0],\n",
              "       [  0,   0,   0,   0,  29,  83,  46, 179, 163,  24,  71,  66,  67,\n",
              "         85,  77,  72,  71,  65,  42, 186,  85,  91, 107,  11,   0,   0,\n",
              "          0,   0],\n",
              "       [  0,   0,   0,   0,  33,  79,  66, 166, 150,  27,  68,  64,  69,\n",
              "         83,  73,  72,  69,  69,  43, 131,  88, 109, 107,  21,   0,   0,\n",
              "          0,   0],\n",
              "       [  0,   0,   0,   0,  45,  69,  86, 151,  92,  41,  67,  61,  71,\n",
              "         77,  69,  73,  69,  66,  55,  78, 115, 132,  94,  28,   0,   0,\n",
              "          0,   0],\n",
              "       [  0,   0,   0,   0,  56,  59, 111, 118,  36,  64,  62,  61,  75,\n",
              "         84,  74,  72,  71,  67,  54,  72, 149, 149,  83,  43,   0,   0,\n",
              "          0,   0],\n",
              "       [  0,   0,   0,   0,  59,  56, 134, 107,  29,  72,  65,  61,  73,\n",
              "         73,  73,  69,  69,  67,  61,  52, 170, 153,  68,  54,   0,   0,\n",
              "          0,   0],\n",
              "       [  0,   0,   0,   0,  59,  49, 153,  83,  21,  69,  64,  62,  68,\n",
              "         69,  72,  67,  68,  68,  66,   8, 161, 166,  61,  59,   0,   0,\n",
              "          0,   0],\n",
              "       [  0,   0,   0,   0,  56,  45, 173,  60,  21,  75,  56,  59,  74,\n",
              "         83,  67,  67,  68,  66,  74,  13, 135, 180,  53,  59,   0,   0,\n",
              "          0,   0],\n",
              "       [  0,   0,   0,   0,  58,  41, 189,  42,  17,  77,  59,  51,  87,\n",
              "         93,  72,  71,  66,  64,  78,  14,  93, 200,  48,  55,   0,   0,\n",
              "          0,   0],\n",
              "       [  0,   0,   0,   0,  55,  41, 187,  42,  27,  71,  58,  60,  80,\n",
              "         74,  75,  68,  69,  58,  73,  10,  58, 206,  49,  55,   0,   0,\n",
              "          0,   0],\n",
              "       [  0,   0,   0,   0,  58,  47, 166,  30,  30,  67,  58,  62,  65,\n",
              "         62,  72,  73,  67,  60,  68,  29,  45, 200,  49,  56,   0,   0,\n",
              "          0,   0],\n",
              "       [  0,   0,   0,   0,  54,  62, 139,   1,  39,  65,  54,  56,  61,\n",
              "         96,  72,  65,  71,  66,  62,  45,  24, 160,  55,  62,   0,   0,\n",
              "          0,   0],\n",
              "       [  0,   0,   0,   0,  58,  60, 142,   1,  43,  61,  54,  61,  78,\n",
              "         98,  71,  67,  71,  67,  59,  52,   3, 142,  59,  55,   0,   0,\n",
              "          0,   0],\n",
              "       [  0,   0,   0,   0,  67,  56, 154,  14,  23,  81,  45,  59,  55,\n",
              "         69,  61,  56,  55,  56,  81,   9,  11, 173,  62,  67,   0,   0,\n",
              "          0,   0],\n",
              "       [  0,   0,   0,   0,  40,  54, 110,  16,   0,  58, 100,  73,  60,\n",
              "         77,  74,  73,  84,  91,  42,   0,   9, 119,  56,  39,   0,   0,\n",
              "          0,   0],\n",
              "       [  0,   0,   0,   0,   0,   0,   0,   0,   0,   0,  16,  71, 113,\n",
              "        125, 123, 100,  59,   9,   0,   0,   0,   0,   0,   0,   0,   0,\n",
              "          0,   0]], dtype=uint8)"
            ]
          },
          "execution_count": 56,
          "metadata": {},
          "output_type": "execute_result"
        }
      ],
      "source": [
        "valid_images[data_idx]"
      ]
    },
    {
      "cell_type": "code",
      "execution_count": 57,
      "metadata": {
        "colab": {
          "base_uri": "https://localhost:8080/"
        },
        "id": "sk2vscK1rqV0",
        "outputId": "2f5e7916-f158-4df5-eb25-b822480cd0bb"
      },
      "outputs": [
        {
          "data": {
            "text/plain": [
              "np.uint8(10)"
            ]
          },
          "execution_count": 57,
          "metadata": {},
          "output_type": "execute_result"
        }
      ],
      "source": [
        "number_of_classes = train_labels.max() + 1\n",
        "number_of_classes"
      ]
    },
    {
      "cell_type": "code",
      "execution_count": 58,
      "metadata": {
        "colab": {
          "base_uri": "https://localhost:8080/"
        },
        "id": "a9qxIQCwr_ET",
        "outputId": "6379409d-9836-42fc-c309-92097f87499f"
      },
      "outputs": [
        {
          "name": "stderr",
          "output_type": "stream",
          "text": [
            "/usr/local/lib/python3.11/dist-packages/keras/src/layers/reshaping/flatten.py:37: UserWarning: Do not pass an `input_shape`/`input_dim` argument to a layer. When using Sequential models, prefer using an `Input(shape)` object as the first layer in the model instead.\n",
            "  super().__init__(**kwargs)\n"
          ]
        }
      ],
      "source": [
        "model = tf.keras.Sequential([\n",
        "    tf.keras.layers.Flatten(input_shape=(28, 28)),\n",
        "    tf.keras.layers.Dense(number_of_classes)\n",
        "])"
      ]
    },
    {
      "cell_type": "code",
      "execution_count": 59,
      "metadata": {
        "colab": {
          "base_uri": "https://localhost:8080/",
          "height": 200
        },
        "id": "C6S-I0Y5sAOI",
        "outputId": "ab722aca-08ee-42eb-b93b-12e27c68f2df"
      },
      "outputs": [
        {
          "data": {
            "text/html": [
              "<pre style=\"white-space:pre;overflow-x:auto;line-height:normal;font-family:Menlo,'DejaVu Sans Mono',consolas,'Courier New',monospace\"><span style=\"font-weight: bold\">Model: \"sequential_3\"</span>\n",
              "</pre>\n"
            ],
            "text/plain": [
              "\u001b[1mModel: \"sequential_3\"\u001b[0m\n"
            ]
          },
          "metadata": {},
          "output_type": "display_data"
        },
        {
          "data": {
            "text/html": [
              "<pre style=\"white-space:pre;overflow-x:auto;line-height:normal;font-family:Menlo,'DejaVu Sans Mono',consolas,'Courier New',monospace\">┏━━━━━━━━━━━━━━━━━━━━━━━━━━━━━━━━━┳━━━━━━━━━━━━━━━━━━━━━━━━┳━━━━━━━━━━━━━━━┓\n",
              "┃<span style=\"font-weight: bold\"> Layer (type)                    </span>┃<span style=\"font-weight: bold\"> Output Shape           </span>┃<span style=\"font-weight: bold\">       Param # </span>┃\n",
              "┡━━━━━━━━━━━━━━━━━━━━━━━━━━━━━━━━━╇━━━━━━━━━━━━━━━━━━━━━━━━╇━━━━━━━━━━━━━━━┩\n",
              "│ flatten_3 (<span style=\"color: #0087ff; text-decoration-color: #0087ff\">Flatten</span>)             │ (<span style=\"color: #00d7ff; text-decoration-color: #00d7ff\">None</span>, <span style=\"color: #00af00; text-decoration-color: #00af00\">784</span>)            │             <span style=\"color: #00af00; text-decoration-color: #00af00\">0</span> │\n",
              "├─────────────────────────────────┼────────────────────────┼───────────────┤\n",
              "│ dense_3 (<span style=\"color: #0087ff; text-decoration-color: #0087ff\">Dense</span>)                 │ (<span style=\"color: #00d7ff; text-decoration-color: #00d7ff\">None</span>, <span style=\"color: #00af00; text-decoration-color: #00af00\">10</span>)             │         <span style=\"color: #00af00; text-decoration-color: #00af00\">7,850</span> │\n",
              "└─────────────────────────────────┴────────────────────────┴───────────────┘\n",
              "</pre>\n"
            ],
            "text/plain": [
              "┏━━━━━━━━━━━━━━━━━━━━━━━━━━━━━━━━━┳━━━━━━━━━━━━━━━━━━━━━━━━┳━━━━━━━━━━━━━━━┓\n",
              "┃\u001b[1m \u001b[0m\u001b[1mLayer (type)                   \u001b[0m\u001b[1m \u001b[0m┃\u001b[1m \u001b[0m\u001b[1mOutput Shape          \u001b[0m\u001b[1m \u001b[0m┃\u001b[1m \u001b[0m\u001b[1m      Param #\u001b[0m\u001b[1m \u001b[0m┃\n",
              "┡━━━━━━━━━━━━━━━━━━━━━━━━━━━━━━━━━╇━━━━━━━━━━━━━━━━━━━━━━━━╇━━━━━━━━━━━━━━━┩\n",
              "│ flatten_3 (\u001b[38;5;33mFlatten\u001b[0m)             │ (\u001b[38;5;45mNone\u001b[0m, \u001b[38;5;34m784\u001b[0m)            │             \u001b[38;5;34m0\u001b[0m │\n",
              "├─────────────────────────────────┼────────────────────────┼───────────────┤\n",
              "│ dense_3 (\u001b[38;5;33mDense\u001b[0m)                 │ (\u001b[38;5;45mNone\u001b[0m, \u001b[38;5;34m10\u001b[0m)             │         \u001b[38;5;34m7,850\u001b[0m │\n",
              "└─────────────────────────────────┴────────────────────────┴───────────────┘\n"
            ]
          },
          "metadata": {},
          "output_type": "display_data"
        },
        {
          "data": {
            "text/html": [
              "<pre style=\"white-space:pre;overflow-x:auto;line-height:normal;font-family:Menlo,'DejaVu Sans Mono',consolas,'Courier New',monospace\"><span style=\"font-weight: bold\"> Total params: </span><span style=\"color: #00af00; text-decoration-color: #00af00\">7,850</span> (30.66 KB)\n",
              "</pre>\n"
            ],
            "text/plain": [
              "\u001b[1m Total params: \u001b[0m\u001b[38;5;34m7,850\u001b[0m (30.66 KB)\n"
            ]
          },
          "metadata": {},
          "output_type": "display_data"
        },
        {
          "data": {
            "text/html": [
              "<pre style=\"white-space:pre;overflow-x:auto;line-height:normal;font-family:Menlo,'DejaVu Sans Mono',consolas,'Courier New',monospace\"><span style=\"font-weight: bold\"> Trainable params: </span><span style=\"color: #00af00; text-decoration-color: #00af00\">7,850</span> (30.66 KB)\n",
              "</pre>\n"
            ],
            "text/plain": [
              "\u001b[1m Trainable params: \u001b[0m\u001b[38;5;34m7,850\u001b[0m (30.66 KB)\n"
            ]
          },
          "metadata": {},
          "output_type": "display_data"
        },
        {
          "data": {
            "text/html": [
              "<pre style=\"white-space:pre;overflow-x:auto;line-height:normal;font-family:Menlo,'DejaVu Sans Mono',consolas,'Courier New',monospace\"><span style=\"font-weight: bold\"> Non-trainable params: </span><span style=\"color: #00af00; text-decoration-color: #00af00\">0</span> (0.00 B)\n",
              "</pre>\n"
            ],
            "text/plain": [
              "\u001b[1m Non-trainable params: \u001b[0m\u001b[38;5;34m0\u001b[0m (0.00 B)\n"
            ]
          },
          "metadata": {},
          "output_type": "display_data"
        }
      ],
      "source": [
        "model.summary()"
      ]
    },
    {
      "cell_type": "code",
      "execution_count": 60,
      "metadata": {
        "colab": {
          "base_uri": "https://localhost:8080/"
        },
        "id": "PfutboSusC0-",
        "outputId": "ebd3400c-acb7-40ee-fb22-97031a07fa0b"
      },
      "outputs": [
        {
          "data": {
            "text/plain": [
              "7840"
            ]
          },
          "execution_count": 60,
          "metadata": {},
          "output_type": "execute_result"
        }
      ],
      "source": [
        "image_height = 28\n",
        "image_width = 28\n",
        "\n",
        "number_of_weights = image_height * image_width * int(number_of_classes)\n",
        "number_of_weights"
      ]
    },
    {
      "cell_type": "code",
      "execution_count": 61,
      "metadata": {
        "colab": {
          "base_uri": "https://localhost:8080/",
          "height": 606
        },
        "id": "c9BblmJYsJ7v",
        "outputId": "e23b19fe-0966-47aa-d936-e153af17cae7"
      },
      "outputs": [
        {
          "data": {
            "image/png": "[encoded data removed]",
            "text/plain": [
              "<IPython.core.display.Image object>"
            ]
          },
          "execution_count": 61,
          "metadata": {},
          "output_type": "execute_result"
        }
      ],
      "source": [
        "tf.keras.utils.plot_model(model, show_shapes=True)"
      ]
    },
    {
      "cell_type": "code",
      "execution_count": 62,
      "metadata": {
        "id": "dipakK-6sKuW"
      },
      "outputs": [],
      "source": [
        "model.compile(optimizer='adam',\n",
        "              loss=tf.keras.losses.SparseCategoricalCrossentropy(from_logits=True),\n",
        "              metrics=['accuracy'])"
      ]
    },
    {
      "cell_type": "code",
      "execution_count": 63,
      "metadata": {
        "colab": {
          "base_uri": "https://localhost:8080/"
        },
        "id": "TyexjbLUsNtT",
        "outputId": "b4897579-38d4-4350-acbe-379c48312c07"
      },
      "outputs": [
        {
          "name": "stdout",
          "output_type": "stream",
          "text": [
            "Epoch 1/5\n",
            "\u001b[1m1875/1875\u001b[0m \u001b[32m━━━━━━━━━━━━━━━━━━━━\u001b[0m\u001b[37m\u001b[0m \u001b[1m8s\u001b[0m 4ms/step - accuracy: 0.6916 - loss: 24.5498 - val_accuracy: 0.7517 - val_loss: 13.1877\n",
            "Epoch 2/5\n",
            "\u001b[1m1875/1875\u001b[0m \u001b[32m━━━━━━━━━━━━━━━━━━━━\u001b[0m\u001b[37m\u001b[0m \u001b[1m6s\u001b[0m 3ms/step - accuracy: 0.7911 - loss: 11.9098 - val_accuracy: 0.8014 - val_loss: 9.9586\n",
            "Epoch 3/5\n",
            "\u001b[1m1875/1875\u001b[0m \u001b[32m━━━━━━━━━━━━━━━━━━━━\u001b[0m\u001b[37m\u001b[0m \u001b[1m4s\u001b[0m 2ms/step - accuracy: 0.7972 - loss: 10.9550 - val_accuracy: 0.8115 - val_loss: 10.0677\n",
            "Epoch 4/5\n",
            "\u001b[1m1875/1875\u001b[0m \u001b[32m━━━━━━━━━━━━━━━━━━━━\u001b[0m\u001b[37m\u001b[0m \u001b[1m6s\u001b[0m 3ms/step - accuracy: 0.7994 - loss: 11.1483 - val_accuracy: 0.7834 - val_loss: 14.4546\n",
            "Epoch 5/5\n",
            "\u001b[1m1875/1875\u001b[0m \u001b[32m━━━━━━━━━━━━━━━━━━━━\u001b[0m\u001b[37m\u001b[0m \u001b[1m4s\u001b[0m 2ms/step - accuracy: 0.8059 - loss: 10.4166 - val_accuracy: 0.7995 - val_loss: 10.1473\n"
          ]
        }
      ],
      "source": [
        "history = model.fit(\n",
        "    train_images,\n",
        "    train_labels,\n",
        "    epochs=5,#feel free to change number of epochs\n",
        "    verbose=True,\n",
        "    validation_data=(valid_images, valid_labels)\n",
        ")"
      ]
    },
    {
      "cell_type": "code",
      "execution_count": 64,
      "metadata": {
        "colab": {
          "base_uri": "https://localhost:8080/"
        },
        "collapsed": true,
        "id": "MoZ60E8BsXJH",
        "outputId": "ee08e24f-99a0-4ba6-8828-fec902c6ed45"
      },
      "outputs": [
        {
          "name": "stderr",
          "output_type": "stream",
          "text": [
            "WARNING:tensorflow:5 out of the last 8 calls to <function TensorFlowTrainer.make_predict_function.<locals>.one_step_on_data_distributed at 0x791943a66020> triggered tf.function retracing. Tracing is expensive and the excessive number of tracings could be due to (1) creating @tf.function repeatedly in a loop, (2) passing tensors with different shapes, (3) passing Python objects instead of tensors. For (1), please define your @tf.function outside of the loop. For (2), @tf.function has reduce_retracing=True option that can avoid unnecessary retracing. For (3), please refer to https://www.tensorflow.org/guide/function#controlling_retracing and https://www.tensorflow.org/api_docs/python/tf/function for  more details.\n"
          ]
        },
        {
          "name": "stdout",
          "output_type": "stream",
          "text": [
            "\u001b[1m1/1\u001b[0m \u001b[32m━━━━━━━━━━━━━━━━━━━━\u001b[0m\u001b[37m\u001b[0m \u001b[1m0s\u001b[0m 72ms/step\n"
          ]
        },
        {
          "data": {
            "text/plain": [
              "array([[ -226.01413 ,  -378.03406 ,   -81.49421 ,  -219.27435 ,\n",
              "         -116.12993 ,   470.97165 ,   115.46636 ,   368.03656 ,\n",
              "          298.93216 ,   699.6819  ],\n",
              "       [  410.7447  ,   -24.471052,   295.24057 ,   157.21503 ,\n",
              "           53.661686, -1157.2959  ,   293.3434  , -1325.6423  ,\n",
              "           16.912716,  -840.3401  ],\n",
              "       [   61.643864,   103.01971 ,    58.416275,   106.66901 ,\n",
              "           58.034363,  -452.13242 ,    64.2473  ,  -430.61343 ,\n",
              "          -42.536686,  -282.73187 ],\n",
              "       [  136.92802 ,   100.07778 ,   151.02342 ,   180.97882 ,\n",
              "           64.10548 ,  -682.28156 ,   136.8054  ,  -786.84595 ,\n",
              "          -42.99905 ,  -683.19775 ],\n",
              "       [  120.13944 ,   340.48953 ,    95.71992 ,   205.21422 ,\n",
              "          138.4603  ,  -761.46423 ,   144.2723  ,  -665.67114 ,\n",
              "           93.48604 ,  -834.528   ],\n",
              "       [  164.63327 ,   102.417366,   386.52563 ,   125.431   ,\n",
              "          224.79755 ,  -778.9595  ,   233.91649 , -1214.9452  ,\n",
              "           11.681079, -1018.7946  ],\n",
              "       [  -87.43353 ,   -30.256271,   -44.476128,    80.96151 ,\n",
              "         -111.648994,   280.93973 ,    -2.986596,   275.51956 ,\n",
              "          150.83038 ,   209.81628 ],\n",
              "       [  227.30556 ,    83.17046 ,   402.47574 ,   126.14513 ,\n",
              "          499.04108 , -1139.8453  ,   289.54074 , -1367.4198  ,\n",
              "           76.15351 ,  -734.87054 ],\n",
              "       [   33.449112,  -376.4844  ,  -139.68306 ,  -169.05077 ,\n",
              "         -191.42339 ,   479.60132 ,   -12.478837,    38.90736 ,\n",
              "           35.400185,   262.8045  ],\n",
              "       [   39.73273 ,  -270.87573 ,    77.97513 ,   -77.754944,\n",
              "          -41.51996 ,   760.4051  ,   138.09428 ,   -87.289986,\n",
              "          202.88835 ,   279.64682 ]], dtype=float32)"
            ]
          },
          "execution_count": 64,
          "metadata": {},
          "output_type": "execute_result"
        }
      ],
      "source": [
        "model.predict(train_images[0:10])"
      ]
    },
    {
      "cell_type": "code",
      "execution_count": 65,
      "metadata": {
        "colab": {
          "base_uri": "https://localhost:8080/",
          "height": 920
        },
        "id": "wedW_AT2saC1",
        "outputId": "1c01ffad-2b75-4249-8eee-79ab05325654"
      },
      "outputs": [
        {
          "data": {
            "image/png": "[encoded data removed]",
            "text/plain": [
              "<Figure size 640x480 with 2 Axes>"
            ]
          },
          "metadata": {},
          "output_type": "display_data"
        },
        {
          "name": "stderr",
          "output_type": "stream",
          "text": [
            "WARNING:tensorflow:6 out of the last 9 calls to <function TensorFlowTrainer.make_predict_function.<locals>.one_step_on_data_distributed at 0x791943a66020> triggered tf.function retracing. Tracing is expensive and the excessive number of tracings could be due to (1) creating @tf.function repeatedly in a loop, (2) passing tensors with different shapes, (3) passing Python objects instead of tensors. For (1), please define your @tf.function outside of the loop. For (2), @tf.function has reduce_retracing=True option that can avoid unnecessary retracing. For (3), please refer to https://www.tensorflow.org/guide/function#controlling_retracing and https://www.tensorflow.org/api_docs/python/tf/function for  more details.\n"
          ]
        },
        {
          "name": "stdout",
          "output_type": "stream",
          "text": [
            "\u001b[1m1/1\u001b[0m \u001b[32m━━━━━━━━━━━━━━━━━━━━\u001b[0m\u001b[37m\u001b[0m \u001b[1m0s\u001b[0m 57ms/step\n"
          ]
        },
        {
          "data": {
            "image/png": "[encoded data removed]",
            "text/plain": [
              "<Figure size 640x480 with 1 Axes>"
            ]
          },
          "metadata": {},
          "output_type": "display_data"
        },
        {
          "name": "stdout",
          "output_type": "stream",
          "text": [
            "correct answer: 5\n"
          ]
        }
      ],
      "source": [
        "import matplotlib.pyplot as plt\n",
        "import random\n",
        "\n",
        "data_idx = random.randint(0, 59999)\n",
        "\n",
        "plt.figure()\n",
        "plt.imshow(train_images[data_idx], cmap='gray')\n",
        "plt.colorbar()\n",
        "plt.grid(False)\n",
        "plt.show()\n",
        "\n",
        "x_values = range(number_of_classes)\n",
        "plt.figure()\n",
        "plt.bar(x_values, model.predict(train_images[data_idx:data_idx+1]).flatten())\n",
        "plt.xticks(range(10))\n",
        "plt.show()\n",
        "\n",
        "print(\"correct answer:\", train_labels[data_idx])"
      ]
    },
    {
      "cell_type": "markdown",
      "metadata": {
        "id": "-i0NCGKfbvpM"
      },
      "source": [
        "Here is the table of categories for the checking the output:\n",
        "\n",
        "| Label | Description |\n",
        "|---|---|\n",
        "| 0 | T-shirt/top |\n",
        "| 1 | Trouser |\n",
        "| 2 | Pullover |\n",
        "| 3 | Dress |\n",
        "| 4 | Coat |\n",
        "| 5 | Sandal |\n",
        "| 6 | Shirt |\n",
        "| 7 | Sneaker |\n",
        "| 8 | Bag |\n",
        "| 9 | Ankle boot |"
      ]
    }
  ],
  "metadata": {
    "colab": {
      "provenance": [],
      "toc_visible": true
    },
    "kernelspec": {
      "display_name": "Python 3",
      "name": "python3"
    },
    "language_info": {
      "name": "python",
      "version": "3.11.4"
    }
  },
  "nbformat": 4,
  "nbformat_minor": 0
}
